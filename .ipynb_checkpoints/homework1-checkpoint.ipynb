{
 "cells": [
  {
   "cell_type": "markdown",
   "metadata": {},
   "source": [
    "### Задание 1"
   ]
  },
  {
   "cell_type": "code",
   "execution_count": 4,
   "metadata": {},
   "outputs": [
    {
     "name": "stdout",
     "output_type": "stream",
     "text": [
      "Фраза 1 длиннее фразы 2\n"
     ]
    }
   ],
   "source": [
    "phrase_1 =  \"Насколько проще было бы писать программы, если бы не заказчики\"\n",
    "phrase_2 = \"640Кб должно хватить для любых задач. Билл Гейтс (по легенде)\"\n",
    "if len(phrase_1)>len(phrase_2):\n",
    "    print('Фраза 1 длиннее фразы 2')\n",
    "elif len(phrase_2)>len(phrase_1):\n",
    "    print('Фраза 2 длиннее фразы 1')\n",
    "elif len(phrase_2)==len(phrase_1):\n",
    "    print('Фразы равной длины')"
   ]
  },
  {
   "cell_type": "code",
   "execution_count": 5,
   "metadata": {},
   "outputs": [
    {
     "name": "stdout",
     "output_type": "stream",
     "text": [
      "Фраза 2 длиннее фразы 1\n"
     ]
    }
   ],
   "source": [
    "phrase_1 =  \"640Кб должно хватить для любых задач. Билл Гейтс (по легенде)\"\n",
    "phrase_2 = \"Насколько проще было бы писать программы, если бы не заказчики\"\n",
    "if len(phrase_1)>len(phrase_2):\n",
    "    print('Фраза 1 длиннее фразы 2')\n",
    "elif len(phrase_2)>len(phrase_1):\n",
    "    print('Фраза 2 длиннее фразы 1')\n",
    "elif len(phrase_2)==len(phrase_1):\n",
    "    print('Фразы равной длины')"
   ]
  },
  {
   "cell_type": "code",
   "execution_count": 6,
   "metadata": {},
   "outputs": [
    {
     "name": "stdout",
     "output_type": "stream",
     "text": [
      "Фразы равной длины\n"
     ]
    }
   ],
   "source": [
    "phrase_1 = \"Насколько проще было бы писать программы, если бы не заказчики\"\n",
    "phrase_2 = \"Насколько проще было бы писать программы, если бы не заказчики\"\n",
    "if len(phrase_1)>len(phrase_2):\n",
    "    print('Фраза 1 длиннее фразы 2')\n",
    "elif len(phrase_2)>len(phrase_1):\n",
    "    print('Фраза 2 длиннее фразы 1')\n",
    "elif len(phrase_2)==len(phrase_1):\n",
    "    print('Фразы равной длины')"
   ]
  },
  {
   "cell_type": "markdown",
   "metadata": {},
   "source": [
    "### Задание 2"
   ]
  },
  {
   "cell_type": "code",
   "execution_count": 11,
   "metadata": {},
   "outputs": [
    {
     "name": "stdout",
     "output_type": "stream",
     "text": [
      "Високосный год\n"
     ]
    }
   ],
   "source": [
    "year = 2020\n",
    "if year%4 == 0:\n",
    "    print('Високосный год')\n",
    "else:\n",
    "    print('Обычный год')"
   ]
  },
  {
   "cell_type": "code",
   "execution_count": 10,
   "metadata": {},
   "outputs": [
    {
     "name": "stdout",
     "output_type": "stream",
     "text": [
      "Обычный год\n"
     ]
    }
   ],
   "source": [
    "year = 2019\n",
    "if year%4 == 0:\n",
    "    print('Високосный год')\n",
    "else:\n",
    "    print('Обычный год')"
   ]
  },
  {
   "cell_type": "markdown",
   "metadata": {},
   "source": [
    "### Задание 3"
   ]
  },
  {
   "cell_type": "code",
   "execution_count": 24,
   "metadata": {},
   "outputs": [
    {
     "name": "stdin",
     "output_type": "stream",
     "text": [
      "Введите день 6\n",
      "Введите месяц май\n"
     ]
    },
    {
     "name": "stdout",
     "output_type": "stream",
     "text": [
      "Ваш знак зодиака: Телец\n"
     ]
    }
   ],
   "source": [
    "day=int(input('Введите день'))\n",
    "month=input('Введите месяц')\n",
    "if (month=='март' and 21<=day<=31) or (month=='апрель' and 1<=day<=19):\n",
    "    print('Ваш знак зодиака: Овен')\n",
    "elif (month=='апрель' and 20<=day<=30) or (month=='май' and 1<=day<=20):\n",
    "    print('Ваш знак зодиака: Телец')\n",
    "elif (month=='май' and 21<=day<=31) or (month=='июнь' and 1<=day<=21):\n",
    "    print('Ваш знак зодиака: Близнецы')\n",
    "elif (month=='июнь' and 22<=day<=30) or (month=='июль' and 1<=day<=22):\n",
    "    print('Ваш знак зодиака: Рак')\n",
    "elif (month=='июль' and 23<=day<=31) or (month=='август' and 1<=day<=22):\n",
    "    print('Ваш знак зодиака: Лев')\n",
    "elif (month=='август' and 23<=day<=31) or (month=='сентябрь' and 1<=day<=22):\n",
    "    print('Ваш знак зодиака: Дева')\n",
    "elif (month=='сентябрь' and 23<=day<=30) or (month=='октябрь' and 1<=day<=23):\n",
    "    print('Ваш знак зодиака: Весы')\n",
    "elif (month=='октябрь' and 24<=day<=31) or (month=='ноябрь' and 1<=day<=22):\n",
    "    print('Ваш знак зодиака: Скорпион')\n",
    "elif (month=='ноябрь' and 23<=day<=30) or (month=='декабрь' and 1<=day<=21):\n",
    "    print('Ваш знак зодиака: Стрелец')\n",
    "elif (month=='декабрь' and 22<=day<=31) or (month=='январь' and 1<=day<=20):\n",
    "    print('Ваш знак зодиака: Козерог')\n",
    "elif (month=='январь' and 21<=day<=31) or (month=='февраль' and 1<=day<=18):\n",
    "    print('Ваш знак зодиака: Водолей')\n",
    "elif (month=='февраль' and 19<=day<=29) or (month=='март' and 1<=day<=20):\n",
    "    print('Ваш знак зодиака: Рыбы')\n",
    "else: \n",
    "    print('Введенные данные некорректны')"
   ]
  },
  {
   "cell_type": "markdown",
   "metadata": {},
   "source": [
    "### Задание 4"
   ]
  },
  {
   "cell_type": "code",
   "execution_count": 26,
   "metadata": {},
   "outputs": [
    {
     "name": "stdout",
     "output_type": "stream",
     "text": [
      "Коробка №1\n"
     ]
    }
   ],
   "source": [
    "width = 10\n",
    "length = 12\n",
    "height = 5\n",
    "if width < 15 and length < 15 and height < 15:\n",
    "    print('Коробка №1')\n",
    "elif 15 < width < 50 or 15 < length < 50 or 15 < height < 50:\n",
    "    print('Коробка №2')\n",
    "elif length > 200:\n",
    "    print('Упаковка для лыж')\n",
    "else:\n",
    "    print('Стандартная коробка №3')"
   ]
  },
  {
   "cell_type": "code",
   "execution_count": null,
   "metadata": {},
   "outputs": [],
   "source": []
  }
 ],
 "metadata": {
  "kernelspec": {
   "display_name": "Python 3",
   "language": "python",
   "name": "python3"
  },
  "language_info": {
   "codemirror_mode": {
    "name": "ipython",
    "version": 3
   },
   "file_extension": ".py",
   "mimetype": "text/x-python",
   "name": "python",
   "nbconvert_exporter": "python",
   "pygments_lexer": "ipython3",
   "version": "3.8.3"
  }
 },
 "nbformat": 4,
 "nbformat_minor": 4
}
